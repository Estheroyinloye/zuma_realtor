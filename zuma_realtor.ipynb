{
 "cells": [
  {
   "cell_type": "code",
   "execution_count": null,
   "id": "5c4e6d1e",
   "metadata": {},
   "outputs": [],
   "source": [
    "!pip install requests\n",
    "!pip install pandas\n",
    "!pip install psycopg2\n",
    "!pip install sqlalchemy\n"
   ]
  },
  {
   "cell_type": "code",
   "execution_count": null,
   "id": "06c6d705",
   "metadata": {},
   "outputs": [],
   "source": [
    "import requests\n",
    "import pandas as pd\n",
    "import psycopg2\n",
    "import json\n",
    "from datetime import datetime\n",
    "from sqlalchemy import create_engine"
   ]
  },
  {
   "cell_type": "code",
   "execution_count": null,
   "id": "f95fd147",
   "metadata": {},
   "outputs": [],
   "source": [
    "\n",
    "\n",
    "\n",
    "url = \"https://zoopla-real-time.p.rapidapi.com/properties/details\"\n",
    "\n",
    "querystring = {\"listingId\":\"69200045\"}\n",
    "\n",
    "headers = {\n",
    "\t\"x-rapidapi-key\": \"84f0978012msh1f18751f8e0d084p1e70c8jsn78ad1b993ee8\",\n",
    "\t\"x-rapidapi-host\": \"zoopla-real-time.p.rapidapi.com\"\n",
    "}\n",
    "\n",
    "response = requests.get(url, headers=headers, params=querystring)\n"
   ]
  },
  {
   "cell_type": "code",
   "execution_count": null,
   "id": "958d6a31",
   "metadata": {},
   "outputs": [],
   "source": [
    "print(response.json())"
   ]
  },
  {
   "cell_type": "code",
   "execution_count": null,
   "id": "a0c7fa61",
   "metadata": {},
   "outputs": [],
   "source": [
    "data = response.json()\n",
    "file_name = 'zuma_data.json'\n",
    "with open(file_name, 'w') as file:\n",
    "    json.dump(data, file, indent = 4)\n",
    "\n"
   ]
  },
  {
   "cell_type": "code",
   "execution_count": null,
   "id": "78f11421",
   "metadata": {},
   "outputs": [],
   "source": [
    "zuma_df = pd.read_json('zuma_data.json')"
   ]
  },
  {
   "cell_type": "code",
   "execution_count": null,
   "id": "477a7d8a",
   "metadata": {},
   "outputs": [],
   "source": [
    "zuma_df.head()"
   ]
  },
  {
   "cell_type": "code",
   "execution_count": null,
   "id": "054c0c98",
   "metadata": {},
   "outputs": [],
   "source": [
    "zuma_realestate_df = pd.read_json(r'C:\\Users\\Admin\\Desktop\\10Alytics\\Realtor Project\\zuma_realtor\\Datasets\\real_estate.json')"
   ]
  },
  {
   "cell_type": "code",
   "execution_count": null,
   "id": "cbe6ff85",
   "metadata": {},
   "outputs": [],
   "source": [
    "zuma_realestate_df.head()"
   ]
  },
  {
   "cell_type": "code",
   "execution_count": null,
   "id": "7d1bc98f",
   "metadata": {},
   "outputs": [],
   "source": [
    "zuma_realestate_df.isnull().sum()\n"
   ]
  },
  {
   "cell_type": "code",
   "execution_count": null,
   "id": "e5e66941",
   "metadata": {},
   "outputs": [],
   "source": [
    "zuma_realestate_df['bedrooms'] = zuma_realestate_df['bedrooms'].fillna(0)\n",
    "zuma_realestate_df['bathrooms']= zuma_realestate_df['bathrooms'].fillna(0)\n",
    "zuma_realestate_df['propertyType'] = zuma_realestate_df['propertyType'].fillna('Not Specified')\n",
    "zuma_realestate_df['legalDescription'] = zuma_realestate_df['propertyType'].fillna('Not Specified')"
   ]
  },
  {
   "cell_type": "code",
   "execution_count": null,
   "id": "127c41d1",
   "metadata": {},
   "outputs": [],
   "source": [
    "zuma_realestate_df.info()"
   ]
  },
  {
   "cell_type": "code",
   "execution_count": null,
   "id": "b4c9d6db",
   "metadata": {},
   "outputs": [],
   "source": [
    "zuma_realestate_df['bathrooms'].dtypes"
   ]
  },
  {
   "cell_type": "code",
   "execution_count": null,
   "id": "0a4444e0",
   "metadata": {},
   "outputs": [],
   "source": [
    "zuma_realestate_df['yearBuilt']= zuma_realestate_df['yearBuilt'].astype(str).replace('.0', '', regex=True)\n",
    "zuma_realestate_df['features']= zuma_realestate_df['features'].astype(str)\n",
    "zuma_realestate_df['id']= zuma_realestate_df['id'].astype(str)\n",
    "zuma_realestate_df['owner']= zuma_realestate_df['owner'].astype(str)\n",
    "zuma_realestate_df['propertyTaxes']= zuma_realestate_df['propertyTaxes'].astype(str)\n",
    "zuma_realestate_df['bedrooms']= zuma_realestate_df['bedrooms'].astype('Int64')\n",
    "zuma_realestate_df['bathrooms']= zuma_realestate_df['bathrooms'].astype('int64')\n",
    "zuma_realestate_df['lastSaleDate ']= pd.to_datetime(zuma_realestate_df['lastSaleDate'])"
   ]
  },
  {
   "cell_type": "code",
   "execution_count": null,
   "id": "90959bd6",
   "metadata": {},
   "outputs": [],
   "source": [
    "zuma_realestate_df.columns"
   ]
  },
  {
   "cell_type": "code",
   "execution_count": null,
   "id": "537de8d3",
   "metadata": {},
   "outputs": [],
   "source": [
    "location_dim = zuma_realestate_df[['addressLine1','city','state','zipCode','formattedAddress','county','addressLine2']].copy().drop_duplicates().reset_index (drop=True)\n",
    "location_dim['location_id']= range(1, len(location_dim)+1)\n",
    "location_dim = location_dim[['location_id','addressLine1','city','state','zipCode','formattedAddress','county','addressLine2']]"
   ]
  },
  {
   "cell_type": "code",
   "execution_count": null,
   "id": "cde82e16",
   "metadata": {},
   "outputs": [],
   "source": [
    "sales_dim = zuma_realestate_df[['lastSalePrice','lastSaleDate']].copy().drop_duplicates().reset_index (drop=True)\n",
    "sales_dim['sales_id'] = range(1, len(sales_dim)+1)\n",
    "sales_dim = sales_dim[['sales_id','lastSalePrice','lastSaleDate']]"
   ]
  },
  {
   "cell_type": "code",
   "execution_count": null,
   "id": "ad78b68f",
   "metadata": {},
   "outputs": [],
   "source": [
    "features_dim = zuma_realestate_df[['bedrooms', 'squareFootage', 'features', 'bathrooms', 'lotSize']].copy().drop_duplicates().reset_index (drop =True)\n",
    "features_dim['feature_id'] = range(1, len(features_dim)+1)\n",
    "features_dim = features_dim[['feature_id', 'bedrooms', 'squareFootage', 'features', 'bathrooms', 'lotSize']]"
   ]
  },
  {
   "cell_type": "code",
   "execution_count": null,
   "id": "3f5fbdea",
   "metadata": {},
   "outputs": [],
   "source": [
    "zuma_fact = zuma_realestate_df.merge(location_dim, on = ['addressLine1','city','state','zipCode','formattedAddress','county','addressLine2'], how = 'left')\\\n",
    "                                .merge(sales_dim, on = ['lastSalePrice','lastSaleDate'], how = 'left')\\\n",
    "                                .merge(features_dim, on = ['bedrooms', 'squareFootage', 'features', 'bathrooms', 'lotSize'], how ='left')"
   ]
  },
  {
   "cell_type": "code",
   "execution_count": null,
   "id": "f79d4231",
   "metadata": {},
   "outputs": [],
   "source": [
    "zuma_fact = zuma_fact [['id', 'location_id','sales_id', 'feature_id', 'yearBuilt', 'assessorID', 'legalDescription',\n",
    "                                  'ownerOccupied','propertyType','taxAssessment','owner' ,'propertyTaxes', 'subdivision', 'zoning']]"
   ]
  },
  {
   "cell_type": "code",
   "execution_count": null,
   "id": "8d35ec13",
   "metadata": {},
   "outputs": [],
   "source": [
    "zuma_fact.head()"
   ]
  },
  {
   "cell_type": "code",
   "execution_count": null,
   "id": "17e2c15f",
   "metadata": {},
   "outputs": [],
   "source": [
    "location_dim.to_csv(r'C:\\Users\\Admin\\Desktop\\10Alytics\\Realtor Project\\zuma_realtor\\Datasets\\Transformed_Data\\location_dim.csv', index = False)\n",
    "sales_dim.to_csv(r'C:\\Users\\Admin\\Desktop\\10Alytics\\Realtor Project\\zuma_realtor\\Datasets\\Transformed_Data\\sales_dim.csv', index = False)\n",
    "features_dim.to_csv(r'C:\\Users\\Admin\\Desktop\\10Alytics\\Realtor Project\\zuma_realtor\\Datasets\\Transformed_Data\\features_dim.csv', index = False)\n",
    "zuma_fact.to_csv(r'C:\\Users\\Admin\\Desktop\\10Alytics\\Realtor Project\\zuma_realtor\\Datasets\\Transformed_Data\\zuma_fact.csv', index = False)"
   ]
  },
  {
   "cell_type": "code",
   "execution_count": null,
   "id": "dd4b0c43",
   "metadata": {},
   "outputs": [],
   "source": [
    "zuma_fact.info()"
   ]
  },
  {
   "cell_type": "code",
   "execution_count": null,
   "id": "6129462b",
   "metadata": {},
   "outputs": [],
   "source": [
    "def get_db_connection():\n",
    "    connection = psycopg2.connect(\n",
    "        host = 'localhost',\n",
    "        user ='postgres',\n",
    "        password ='postgres',\n",
    "        database ='zuma_realtor'\n",
    "    )\n",
    "    return connection\n",
    "\n",
    "conn = get_db_connection()\n",
    "cursor = conn.cursor()\n",
    "\n",
    "\n"
   ]
  },
  {
   "cell_type": "code",
   "execution_count": null,
   "id": "b2a01384",
   "metadata": {},
   "outputs": [],
   "source": [
    "def create_tables():\n",
    "    conn = get_db_connection()\n",
    "    cursor = conn.cursor()\n",
    "    table_query =''' CREATE SCHEMA IF NOT EXISTS zuma;\n",
    "    CREATE TABLE IF NOT EXISTS zuma.location_dim(\n",
    "    location_id SERIAL PRIMARY KEY,\n",
    "    addressLine1 VARCHAR(1000),\n",
    "    city VARCHAR(1000),\n",
    "    state VARCHAR(1000),\n",
    "    zipCode INTEGER,\n",
    "    formattedAddress VARCHAR(1000),\n",
    "    county VARCHAR(1000),\n",
    "    addressLine2 VARCHAR(1000)\n",
    "    );\n",
    "\n",
    "    CREATE TABLE IF NOT EXISTS zuma.sales_dim(\n",
    "    sales_id SERIAL PRIMARY KEY,\n",
    "    lastSalePrice FLOAT,\n",
    "    lastSaleDate VARCHAR (1000)\n",
    "    );\n",
    "\n",
    "    CREATE TABLE IF NOT EXISTS zuma.features_dim(\n",
    "    feature_id SERIAL PRIMARY KEY,\n",
    "    bedrooms INTEGER,\n",
    "    squareFootage FLOAT,\n",
    "    features VARCHAR(1000),\n",
    "    bathrooms INTEGER,\n",
    "    lotSize FLOAT\n",
    "    );\n",
    "\n",
    "    CREATE TABLE IF NOT EXISTS zuma.zuma_fact(\n",
    "    id VARCHAR(1000) PRIMARY KEY,\n",
    "    location_id INTEGER,\n",
    "    sales_id INTEGER,\n",
    "    feature_id INTEGER,\n",
    "    yearBuilt VARCHAR(1000),\n",
    "    assessorID VARCHAR(1000),\n",
    "    legalDescription VARCHAR(1000),\n",
    "    ownerOccupied FLOAT,\n",
    "    propertyType VARCHAR(1000),\n",
    "    taxAssessment VARCHAR(1000),\n",
    "    owner VARCHAR(1000),\n",
    "    propertyTaxes VARCHAR(1000),\n",
    "    subdivision VARCHAR(1000),\n",
    "    zoning VARCHAR(1000),\n",
    "    FOREIGN KEY (location_id) REFERENCES zuma.location_dim(location_id),\n",
    "    FOREIGN KEY (sales_id) REFERENCES zuma.sales_dim(sales_id),\n",
    "    FOREIGN KEY (feature_id) REFERENCES zuma.features_dim(feature_id)\n",
    "    );\n",
    "\n",
    "'''\n",
    "    cursor.execute(table_query)\n",
    "    conn.commit()\n",
    "    cursor.close()\n",
    "    conn.close()"
   ]
  },
  {
   "cell_type": "code",
   "execution_count": null,
   "id": "36bebdf4",
   "metadata": {},
   "outputs": [],
   "source": [
    "create_tables()"
   ]
  },
  {
   "cell_type": "code",
   "execution_count": null,
   "id": "78f98d47",
   "metadata": {},
   "outputs": [],
   "source": [
    "zuma_fact.head()"
   ]
  },
  {
   "cell_type": "code",
   "execution_count": null,
   "id": "9eb09d9d",
   "metadata": {},
   "outputs": [],
   "source": [
    "zuma_fact['taxAssessment'] = zuma_fact['taxAssessment'].astype(str)\n",
    "zuma_fact['owner'] = zuma_fact['owner'].astype(str)\n",
    "zuma_fact['propertyTaxes'] = zuma_fact['propertyTaxes'].astype(str)"
   ]
  },
  {
   "cell_type": "code",
   "execution_count": null,
   "id": "cd94241c",
   "metadata": {},
   "outputs": [],
   "source": [
    "\n",
    "db_params ={\n",
    "    'host': 'localhost',\n",
    "    'user': 'postgres',\n",
    "    'password':'postgres',\n",
    "    'database': 'zuma_realtor',\n",
    "    'port' : '5432'\n",
    "}\n",
    "\n",
    "db_url = f\"postgresql://{db_params['user']}:{db_params['password']}@{db_params['host']}:{db_params['port']}/{db_params['database']}\"\n",
    "\n",
    "engine = create_engine(db_url)\n",
    "\n",
    "with engine.connect() as connection:\n",
    "    location_dim.to_sql('location_dim', connection, schema='zuma', if_exists='replace', index=False)\n",
    "    sales_dim.to_sql('sales_dim', connection, schema='zuma', if_exists='replace', index=False)\n",
    "    features_dim.to_sql('features_dim', connection, schema='zuma', if_exists='replace', index=False)\n",
    "    zuma_fact.to_sql('zuma_fact', connection, schema='zuma', if_exists='replace', index=False)\n",
    "\n"
   ]
  }
 ],
 "metadata": {
  "kernelspec": {
   "display_name": "base",
   "language": "python",
   "name": "python3"
  },
  "language_info": {
   "codemirror_mode": {
    "name": "ipython",
    "version": 3
   },
   "file_extension": ".py",
   "mimetype": "text/x-python",
   "name": "python",
   "nbconvert_exporter": "python",
   "pygments_lexer": "ipython3",
   "version": "3.12.7"
  }
 },
 "nbformat": 4,
 "nbformat_minor": 5
}
